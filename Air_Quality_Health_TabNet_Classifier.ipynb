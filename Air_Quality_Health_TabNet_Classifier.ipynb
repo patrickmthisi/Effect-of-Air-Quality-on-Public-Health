{
 "cells": [
  {
   "cell_type": "markdown",
   "id": "e995b363",
   "metadata": {},
   "source": [
    "- Author: Patrick Mthisi\n",
    "- Contact details: patrickmthisi@hotmail.com\n",
    "\n",
    "# Understanding the Effects of Air Quality on Public Health\n",
    "\n",
    "The dataset for the project was sourced from: https://www.kaggle.com/datasets/rabieelkharoua/air-quality-and-health-impact-dataset\n",
    "\n",
    "About Dataset:\n",
    "\n",
    "This dataset contains comprehensive information on the air quality and its impact on public health for 5,811 records. It includes variables such as air quality index (AQI), concentrations of various pollutants, weather conditions, and health impact metrics. The target variable is the health impact class, which categorizes the health impact based on the air quality and other related factors.\n",
    "\n",
    "#  Objectives:\n",
    "\n",
    "In this short study, we aim to investigate the impact of air quality on public health using Google's TabNet classifier on a highly imbalanced multi-class dataset. The following concepts can be gleaned from this study:\n",
    " - Performing Bayesian hyperparameter optimisation using Optuna to get an optimal set of hyperparameters for the weighted TabNet model.\n",
    " - Constructing a TabNet ensemble classifier."
   ]
  },
  {
   "cell_type": "markdown",
   "id": "e68ec913",
   "metadata": {},
   "source": [
    "# Import Libraries:"
   ]
  },
  {
   "cell_type": "code",
   "execution_count": 1,
   "id": "1df51738",
   "metadata": {},
   "outputs": [],
   "source": [
    "import pandas as pd\n",
    "import numpy as np\n",
    "\n",
    "from sklearn.model_selection import train_test_split, StratifiedKFold\n",
    "from sklearn.preprocessing import LabelEncoder\n",
    "from sklearn.metrics import classification_report, roc_auc_score, balanced_accuracy_score, confusion_matrix, average_precision_score\n",
    "from sklearn.utils.class_weight import compute_class_weight\n",
    "from sklearn.preprocessing import label_binarize\n",
    "import torch\n",
    "from pytorch_tabnet.tab_model import TabNetClassifier\n",
    "from pytorch_tabnet.metrics import Metric\n",
    "import sweetviz\n",
    "import dtale\n",
    "import optuna\n",
    "import sys\n",
    "import contextlib\n",
    "import os\n",
    "import matplotlib.pyplot as plt\n",
    "import seaborn as sns\n",
    "\n",
    "import warnings\n",
    "warnings.simplefilter(action='ignore', category=FutureWarning)\n",
    "warnings.filterwarnings(\"ignore\", message=\"Best weights from best epoch are automatically used!\")\n",
    "\n",
    "sns.set_theme(context='notebook', \n",
    "              style='whitegrid',\n",
    "              palette='colorblind', \n",
    "              color_codes=True, \n",
    "              rc={'figure.figsize': [10, 6]})"
   ]
  },
  {
   "cell_type": "markdown",
   "id": "1092fbaa",
   "metadata": {},
   "source": [
    "# Load dataset and perform EDA:"
   ]
  },
  {
   "cell_type": "code",
   "execution_count": 2,
   "id": "db2c5710",
   "metadata": {},
   "outputs": [
    {
     "data": {
      "text/html": [
       "\n",
       "        <iframe\n",
       "            width=\"100%\"\n",
       "            height=\"475\"\n",
       "            src=\"http://localhost:40000/dtale/iframe/1\"\n",
       "            frameborder=\"0\"\n",
       "            allowfullscreen\n",
       "            \n",
       "        ></iframe>\n",
       "        "
      ],
      "text/plain": [
       "<IPython.lib.display.IFrame at 0x7fa69dc0aa10>"
      ]
     },
     "metadata": {},
     "output_type": "display_data"
    },
    {
     "data": {
      "text/plain": []
     },
     "execution_count": 2,
     "metadata": {},
     "output_type": "execute_result"
    }
   ],
   "source": [
    "df = pd.read_csv(\"air_quality_health_impact_data.csv\", na_values=np.nan)\n",
    "dtale.show(df, host='localhost')"
   ]
  },
  {
   "cell_type": "markdown",
   "id": "0093b243",
   "metadata": {},
   "source": [
    "# Training, validation, and test data split:"
   ]
  },
  {
   "cell_type": "code",
   "execution_count": 3,
   "id": "f466a2bb",
   "metadata": {},
   "outputs": [
    {
     "name": "stdout",
     "output_type": "stream",
     "text": [
      "Percentage of data in each set ----\n",
      "Train: 69.99%\n",
      "Valid: 15.01%\n",
      "Test : 15.01%\n",
      "\n",
      "Class distribution in each set ----\n",
      "Train: [0.8273912  0.099582   0.04696336 0.01647406 0.00958938]\n",
      "Valid: [0.82683486 0.09977064 0.04701835 0.01605505 0.0103211 ]\n",
      "Test : [0.82798165 0.09977064 0.04701835 0.01605505 0.00917431]\n",
      "\n",
      "Sample weights ----\n",
      "[ 0.24172363  2.00839506  4.25863874 12.14029851 20.85641026]\n"
     ]
    }
   ],
   "source": [
    "TARGET = \"HealthImpactClass\"\n",
    "RANDOM_STATE = 42\n",
    "TEST_SIZE = 0.15\n",
    "VALID_SIZE = 0.15\n",
    "\n",
    "X = df.drop(columns=[\"RecordID\"]).copy()\n",
    "y = X.pop(TARGET).astype(int)\n",
    "\n",
    "num_features = X.select_dtypes(\"number\").columns.to_list()\n",
    "\n",
    "X_train, X_temp, y_train, y_temp  = train_test_split(\n",
    "    X, y, \n",
    "    test_size=(TEST_SIZE + VALID_SIZE), \n",
    "    random_state=RANDOM_STATE, \n",
    "    stratify=y\n",
    ")\n",
    "\n",
    "new_test_size = TEST_SIZE / (TEST_SIZE + VALID_SIZE)\n",
    "\n",
    "X_valid, X_test, y_valid, y_test = train_test_split(\n",
    "    X_temp, y_temp,\n",
    "    test_size=new_test_size, \n",
    "    stratify=y_temp,\n",
    "    random_state=RANDOM_STATE\n",
    ")\n",
    "\n",
    "print(\"Percentage of data in each set ----\")\n",
    "print(f\"Train: {100 * len(X_train) / len(X):.2f}%\")\n",
    "print(f\"Valid: {100 * len(X_valid) / len(X):.2f}%\")\n",
    "print(f\"Test : {100 * len(X_test) / len(X):.2f}%\")\n",
    "print(\"\")\n",
    "print(\"Class distribution in each set ----\")\n",
    "print(f\"Train: {y_train.value_counts(normalize=True).values}\")\n",
    "print(f\"Valid: {y_valid.value_counts(normalize=True).values}\")\n",
    "print(f\"Test : {y_test.value_counts(normalize=True).values}\")\n",
    "\n",
    "classes = np.unique(y_train)\n",
    "class_weights = compute_class_weight(class_weight=\"balanced\", classes=classes, y=y_train)\n",
    "sample_weights = np.array([class_weights[cls] for cls in y_train])\n",
    "print(\"\\nSample weights ----\")\n",
    "print(class_weights)"
   ]
  },
  {
   "cell_type": "markdown",
   "id": "d482f147",
   "metadata": {},
   "source": [
    "# Hyperparameter optimisation of TabNet classifier:"
   ]
  },
  {
   "cell_type": "code",
   "execution_count": 5,
   "id": "d7ea7303",
   "metadata": {
    "scrolled": false
   },
   "outputs": [
    {
     "name": "stderr",
     "output_type": "stream",
     "text": [
      "[I 2025-07-21 18:06:39,514] A new study created in memory with name: no-name-364c6f12-b15d-45a7-88eb-9af25a24937e\n"
     ]
    },
    {
     "name": "stdout",
     "output_type": "stream",
     "text": [
      "\n",
      "Early stopping occurred at epoch 25 with best_epoch = 5 and best_valid_balanced_accuracy = 0.25381\n"
     ]
    },
    {
     "name": "stderr",
     "output_type": "stream",
     "text": [
      "[I 2025-07-21 18:25:22,743] Trial 7 finished with value: 0.2538121769375904 and parameters: {'lr': 9.769238918980915e-05, 'gamma': 0.1207145446250604, 'step_size': 19, 'n_d': 12, 'n_a': 11, 'lambda_sparse': 0.00010910232817561727, 'momentum': 0.1884043864011105}. Best is trial 7 with value: 0.2538121769375904.\n"
     ]
    },
    {
     "name": "stdout",
     "output_type": "stream",
     "text": [
      "\n",
      "Early stopping occurred at epoch 30 with best_epoch = 10 and best_valid_balanced_accuracy = 0.62985\n"
     ]
    },
    {
     "name": "stderr",
     "output_type": "stream",
     "text": [
      "[I 2025-07-21 18:29:09,577] Trial 0 finished with value: 0.6298513587268925 and parameters: {'lr': 0.003175196233119422, 'gamma': 1.0394598524078422, 'step_size': 49, 'n_d': 9, 'n_a': 8, 'lambda_sparse': 0.0001201212179796293, 'momentum': 0.7038571051510726}. Best is trial 0 with value: 0.6298513587268925.\n"
     ]
    },
    {
     "name": "stdout",
     "output_type": "stream",
     "text": [
      "\n",
      "Early stopping occurred at epoch 40 with best_epoch = 20 and best_valid_balanced_accuracy = 0.57758\n"
     ]
    },
    {
     "name": "stderr",
     "output_type": "stream",
     "text": [
      "[I 2025-07-21 18:36:58,954] Trial 3 finished with value: 0.5775767518065443 and parameters: {'lr': 0.009364242682015017, 'gamma': 0.9718930704147003, 'step_size': 38, 'n_d': 7, 'n_a': 13, 'lambda_sparse': 1.9721912871204413e-05, 'momentum': 0.4567066188141301}. Best is trial 0 with value: 0.6298513587268925.\n"
     ]
    },
    {
     "name": "stdout",
     "output_type": "stream",
     "text": [
      "\n",
      "Early stopping occurred at epoch 43 with best_epoch = 23 and best_valid_balanced_accuracy = 0.63362\n"
     ]
    },
    {
     "name": "stderr",
     "output_type": "stream",
     "text": [
      "[I 2025-07-21 18:39:07,805] Trial 1 finished with value: 0.6336227925864317 and parameters: {'lr': 0.013699275865236803, 'gamma': 1.5609157592915663, 'step_size': 38, 'n_d': 5, 'n_a': 12, 'lambda_sparse': 0.00019833485861211938, 'momentum': 0.3459110476671862}. Best is trial 1 with value: 0.6336227925864317.\n"
     ]
    },
    {
     "name": "stdout",
     "output_type": "stream",
     "text": [
      "\n",
      "Early stopping occurred at epoch 45 with best_epoch = 25 and best_valid_balanced_accuracy = 0.55826\n"
     ]
    },
    {
     "name": "stderr",
     "output_type": "stream",
     "text": [
      "[I 2025-07-21 18:41:00,817] Trial 6 finished with value: 0.5582550971619047 and parameters: {'lr': 0.0014824214569705142, 'gamma': 0.6476153776603142, 'step_size': 44, 'n_d': 5, 'n_a': 7, 'lambda_sparse': 0.001795009953182625, 'momentum': 0.7723372412693091}. Best is trial 1 with value: 0.6336227925864317.\n"
     ]
    },
    {
     "name": "stdout",
     "output_type": "stream",
     "text": [
      "\n",
      "Early stopping occurred at epoch 25 with best_epoch = 5 and best_valid_balanced_accuracy = 0.26289\n"
     ]
    },
    {
     "name": "stderr",
     "output_type": "stream",
     "text": [
      "[I 2025-07-21 19:00:59,605] Trial 11 finished with value: 0.2628850324564272 and parameters: {'lr': 6.114136890028235e-05, 'gamma': 1.9184307254266277, 'step_size': 16, 'n_d': 7, 'n_a': 8, 'lambda_sparse': 0.00015226280587447516, 'momentum': 0.7931544859319907}. Best is trial 1 with value: 0.6336227925864317.\n"
     ]
    },
    {
     "name": "stdout",
     "output_type": "stream",
     "text": [
      "\n",
      "Early stopping occurred at epoch 32 with best_epoch = 12 and best_valid_balanced_accuracy = 0.61708\n"
     ]
    },
    {
     "name": "stderr",
     "output_type": "stream",
     "text": [
      "[I 2025-07-21 19:05:21,257] Trial 10 finished with value: 0.6170812065861344 and parameters: {'lr': 0.0071999632835034084, 'gamma': 1.8707353150491586, 'step_size': 42, 'n_d': 13, 'n_a': 11, 'lambda_sparse': 0.0022184820055044037, 'momentum': 0.9344450729539127}. Best is trial 1 with value: 0.6336227925864317.\n"
     ]
    },
    {
     "name": "stdout",
     "output_type": "stream",
     "text": [
      "\n",
      "Early stopping occurred at epoch 75 with best_epoch = 55 and best_valid_balanced_accuracy = 0.46289\n"
     ]
    },
    {
     "name": "stderr",
     "output_type": "stream",
     "text": [
      "[I 2025-07-21 19:05:50,495] Trial 5 finished with value: 0.46288940033214 and parameters: {'lr': 0.0005347177961222318, 'gamma': 0.8266412247884208, 'step_size': 11, 'n_d': 11, 'n_a': 9, 'lambda_sparse': 0.0001891336189097902, 'momentum': 0.17132646900657883}. Best is trial 1 with value: 0.6336227925864317.\n"
     ]
    },
    {
     "name": "stdout",
     "output_type": "stream",
     "text": [
      "\n",
      "Early stopping occurred at epoch 50 with best_epoch = 30 and best_valid_balanced_accuracy = 0.64699\n"
     ]
    },
    {
     "name": "stderr",
     "output_type": "stream",
     "text": [
      "[I 2025-07-21 19:11:46,544] Trial 9 finished with value: 0.6469948950290593 and parameters: {'lr': 0.03586475229972289, 'gamma': 0.49436596724016657, 'step_size': 20, 'n_d': 8, 'n_a': 9, 'lambda_sparse': 0.008554521893900711, 'momentum': 0.298003911155303}. Best is trial 9 with value: 0.6469948950290593.\n"
     ]
    },
    {
     "name": "stdout",
     "output_type": "stream",
     "text": [
      "\n",
      "Early stopping occurred at epoch 84 with best_epoch = 64 and best_valid_balanced_accuracy = 0.51355\n"
     ]
    },
    {
     "name": "stderr",
     "output_type": "stream",
     "text": [
      "[I 2025-07-21 19:13:28,996] Trial 4 finished with value: 0.513548243187248 and parameters: {'lr': 0.0003828732804034275, 'gamma': 0.5150004314773412, 'step_size': 30, 'n_d': 11, 'n_a': 6, 'lambda_sparse': 1.7585972451090524e-05, 'momentum': 0.6792470408751929}. Best is trial 9 with value: 0.6469948950290593.\n"
     ]
    },
    {
     "name": "stdout",
     "output_type": "stream",
     "text": [
      "\n",
      "Early stopping occurred at epoch 92 with best_epoch = 72 and best_valid_balanced_accuracy = 0.57039\n"
     ]
    },
    {
     "name": "stderr",
     "output_type": "stream",
     "text": [
      "[I 2025-07-21 19:20:07,323] Trial 2 finished with value: 0.5703921795064716 and parameters: {'lr': 0.0005100545477751077, 'gamma': 1.776314570360901, 'step_size': 31, 'n_d': 13, 'n_a': 5, 'lambda_sparse': 0.0010095588428432993, 'momentum': 0.668638732092359}. Best is trial 9 with value: 0.6469948950290593.\n"
     ]
    },
    {
     "name": "stdout",
     "output_type": "stream",
     "text": [
      "\n",
      "Early stopping occurred at epoch 21 with best_epoch = 1 and best_valid_balanced_accuracy = 0.27807\n"
     ]
    },
    {
     "name": "stderr",
     "output_type": "stream",
     "text": [
      "[I 2025-07-21 19:28:17,157] Trial 16 finished with value: 0.27806645936754454 and parameters: {'lr': 9.229950340235193e-05, 'gamma': 0.4632051617983197, 'step_size': 50, 'n_d': 8, 'n_a': 13, 'lambda_sparse': 0.00374303356726873, 'momentum': 0.1465297723034145}. Best is trial 9 with value: 0.6469948950290593.\n"
     ]
    },
    {
     "name": "stdout",
     "output_type": "stream",
     "text": [
      "\n",
      "Early stopping occurred at epoch 82 with best_epoch = 62 and best_valid_balanced_accuracy = 0.55402\n"
     ]
    },
    {
     "name": "stderr",
     "output_type": "stream",
     "text": [
      "[I 2025-07-21 19:31:21,490] Trial 8 finished with value: 0.554024828975632 and parameters: {'lr': 0.0013307875546449913, 'gamma': 1.4946725677302017, 'step_size': 45, 'n_d': 8, 'n_a': 7, 'lambda_sparse': 0.0023514318104364902, 'momentum': 0.9791749400563529}. Best is trial 9 with value: 0.6469948950290593.\n"
     ]
    },
    {
     "name": "stdout",
     "output_type": "stream",
     "text": [
      "\n",
      "Early stopping occurred at epoch 41 with best_epoch = 21 and best_valid_balanced_accuracy = 0.58509\n"
     ]
    },
    {
     "name": "stderr",
     "output_type": "stream",
     "text": [
      "[I 2025-07-21 19:33:40,876] Trial 13 finished with value: 0.585087074315193 and parameters: {'lr': 0.027275504050206564, 'gamma': 1.8930631572866898, 'step_size': 44, 'n_d': 8, 'n_a': 7, 'lambda_sparse': 0.00014288091882690867, 'momentum': 0.9956196211504745}. Best is trial 9 with value: 0.6469948950290593.\n"
     ]
    },
    {
     "name": "stdout",
     "output_type": "stream",
     "text": [
      "\n",
      "Early stopping occurred at epoch 65 with best_epoch = 45 and best_valid_balanced_accuracy = 0.63371\n"
     ]
    },
    {
     "name": "stderr",
     "output_type": "stream",
     "text": [
      "[I 2025-07-21 19:34:03,802] Trial 12 finished with value: 0.6337082189034143 and parameters: {'lr': 0.002235966661960264, 'gamma': 0.9473598145550564, 'step_size': 48, 'n_d': 6, 'n_a': 12, 'lambda_sparse': 0.00015234798195351708, 'momentum': 0.9839235617486508}. Best is trial 9 with value: 0.6469948950290593.\n"
     ]
    },
    {
     "name": "stdout",
     "output_type": "stream",
     "text": [
      "\n",
      "Early stopping occurred at epoch 42 with best_epoch = 22 and best_valid_balanced_accuracy = 0.5812\n"
     ]
    },
    {
     "name": "stderr",
     "output_type": "stream",
     "text": [
      "[I 2025-07-21 19:44:20,198] Trial 17 finished with value: 0.5812009221531786 and parameters: {'lr': 0.08440341822456916, 'gamma': 0.1658542867706122, 'step_size': 27, 'n_d': 9, 'n_a': 5, 'lambda_sparse': 0.00984653489590068, 'momentum': 0.36991337684746284}. Best is trial 9 with value: 0.6469948950290593.\n"
     ]
    },
    {
     "name": "stdout",
     "output_type": "stream",
     "text": [
      "\n",
      "Early stopping occurred at epoch 57 with best_epoch = 37 and best_valid_balanced_accuracy = 0.59584\n"
     ]
    },
    {
     "name": "stderr",
     "output_type": "stream",
     "text": [
      "[I 2025-07-21 19:48:28,624] Trial 15 finished with value: 0.5958357683916405 and parameters: {'lr': 0.029595841683895858, 'gamma': 0.19218484656430945, 'step_size': 44, 'n_d': 6, 'n_a': 8, 'lambda_sparse': 0.001387988594659643, 'momentum': 0.5818699027214256}. Best is trial 9 with value: 0.6469948950290593.\n"
     ]
    },
    {
     "name": "stdout",
     "output_type": "stream",
     "text": [
      "\n",
      "Early stopping occurred at epoch 26 with best_epoch = 6 and best_valid_balanced_accuracy = 0.63251\n"
     ]
    },
    {
     "name": "stderr",
     "output_type": "stream",
     "text": [
      "[I 2025-07-21 19:50:26,755] Trial 20 finished with value: 0.6325133262332672 and parameters: {'lr': 0.09473231817706051, 'gamma': 1.3898420016607842, 'step_size': 26, 'n_d': 5, 'n_a': 11, 'lambda_sparse': 0.009511100590438696, 'momentum': 0.34815151716137144}. Best is trial 9 with value: 0.6469948950290593.\n"
     ]
    },
    {
     "name": "stdout",
     "output_type": "stream",
     "text": [
      "\n",
      "Early stopping occurred at epoch 44 with best_epoch = 24 and best_valid_balanced_accuracy = 0.59903\n"
     ]
    },
    {
     "name": "stderr",
     "output_type": "stream",
     "text": [
      "[I 2025-07-21 19:51:40,733] Trial 18 finished with value: 0.5990299686822015 and parameters: {'lr': 0.08293450125678918, 'gamma': 1.4522543703435806, 'step_size': 26, 'n_d': 5, 'n_a': 11, 'lambda_sparse': 0.009892678943929001, 'momentum': 0.3839951889602219}. Best is trial 9 with value: 0.6469948950290593.\n"
     ]
    },
    {
     "name": "stdout",
     "output_type": "stream",
     "text": [
      "\n",
      "Early stopping occurred at epoch 32 with best_epoch = 12 and best_valid_balanced_accuracy = 0.62595\n"
     ]
    },
    {
     "name": "stderr",
     "output_type": "stream",
     "text": [
      "[I 2025-07-21 19:56:50,310] Trial 21 finished with value: 0.6259461408521971 and parameters: {'lr': 0.08824286045321987, 'gamma': 1.3405611486111457, 'step_size': 26, 'n_d': 5, 'n_a': 11, 'lambda_sparse': 0.00904084169885123, 'momentum': 0.3819696608816586}. Best is trial 9 with value: 0.6469948950290593.\n"
     ]
    },
    {
     "name": "stdout",
     "output_type": "stream",
     "text": [
      "\n",
      "Early stopping occurred at epoch 41 with best_epoch = 21 and best_valid_balanced_accuracy = 0.63563\n"
     ]
    },
    {
     "name": "stderr",
     "output_type": "stream",
     "text": [
      "[I 2025-07-21 19:57:32,053] Trial 19 finished with value: 0.635631496972103 and parameters: {'lr': 0.08409902973368184, 'gamma': 1.4978025374011903, 'step_size': 26, 'n_d': 5, 'n_a': 11, 'lambda_sparse': 0.009794282406429577, 'momentum': 0.42621039279993556}. Best is trial 9 with value: 0.6469948950290593.\n"
     ]
    },
    {
     "name": "stdout",
     "output_type": "stream",
     "text": [
      "\n",
      "Early stopping occurred at epoch 20 with best_epoch = 0 and best_valid_balanced_accuracy = 0.25585\n"
     ]
    },
    {
     "name": "stderr",
     "output_type": "stream",
     "text": [
      "[I 2025-07-21 19:59:06,894] Trial 23 finished with value: 0.25585250629874895 and parameters: {'lr': 1.6490333681627847e-05, 'gamma': 1.2606285970817859, 'step_size': 23, 'n_d': 6, 'n_a': 10, 'lambda_sparse': 0.0007108219383444806, 'momentum': 0.5351813527717229}. Best is trial 9 with value: 0.6469948950290593.\n"
     ]
    },
    {
     "name": "stdout",
     "output_type": "stream",
     "text": [
      "\n",
      "Early stopping occurred at epoch 21 with best_epoch = 1 and best_valid_balanced_accuracy = 0.25164\n"
     ]
    },
    {
     "name": "stderr",
     "output_type": "stream",
     "text": [
      "[I 2025-07-21 20:06:54,419] Trial 26 finished with value: 0.25163622309139055 and parameters: {'lr': 1.577968763602277e-05, 'gamma': 1.2362193309342584, 'step_size': 20, 'n_d': 10, 'n_a': 10, 'lambda_sparse': 4.6447276944378235e-05, 'momentum': 0.2615981598485081}. Best is trial 9 with value: 0.6469948950290593.\n"
     ]
    },
    {
     "name": "stdout",
     "output_type": "stream",
     "text": [
      "\n",
      "Early stopping occurred at epoch 20 with best_epoch = 0 and best_valid_balanced_accuracy = 0.2743\n",
      "\n",
      "Early stopping occurred at epoch 21 with best_epoch = 1 and best_valid_balanced_accuracy = 0.24035\n"
     ]
    },
    {
     "name": "stderr",
     "output_type": "stream",
     "text": [
      "[I 2025-07-21 20:12:19,871] Trial 28 finished with value: 0.2742991082404965 and parameters: {'lr': 2.121280802111335e-05, 'gamma': 1.2337450963292362, 'step_size': 18, 'n_d': 6, 'n_a': 10, 'lambda_sparse': 0.0006781359197823066, 'momentum': 0.494048704244971}. Best is trial 9 with value: 0.6469948950290593.\n",
      "[I 2025-07-21 20:12:21,559] Trial 27 finished with value: 0.24035270401965106 and parameters: {'lr': 1.9808537267049315e-05, 'gamma': 1.1937218249197608, 'step_size': 20, 'n_d': 10, 'n_a': 10, 'lambda_sparse': 0.0005377976218357985, 'momentum': 0.539973543928554}. Best is trial 9 with value: 0.6469948950290593.\n"
     ]
    },
    {
     "name": "stdout",
     "output_type": "stream",
     "text": [
      "\n",
      "Early stopping occurred at epoch 42 with best_epoch = 22 and best_valid_balanced_accuracy = 0.58992\n"
     ]
    },
    {
     "name": "stderr",
     "output_type": "stream",
     "text": [
      "[I 2025-07-21 20:18:09,187] Trial 24 finished with value: 0.5899233755358262 and parameters: {'lr': 0.0036220619804561787, 'gamma': 1.3131349604127283, 'step_size': 24, 'n_d': 6, 'n_a': 10, 'lambda_sparse': 0.00048798239364881627, 'momentum': 0.2932648697213299}. Best is trial 9 with value: 0.6469948950290593.\n"
     ]
    },
    {
     "name": "stdout",
     "output_type": "stream",
     "text": [
      "\n",
      "Early stopping occurred at epoch 105 with best_epoch = 85 and best_valid_balanced_accuracy = 0.45726\n"
     ]
    },
    {
     "name": "stderr",
     "output_type": "stream",
     "text": [
      "[I 2025-07-21 20:21:13,855] Trial 14 finished with value: 0.4572574587958324 and parameters: {'lr': 0.00023523221281258015, 'gamma': 0.6297358552808331, 'step_size': 45, 'n_d': 6, 'n_a': 11, 'lambda_sparse': 0.0026531008443223406, 'momentum': 0.5538460684503291}. Best is trial 9 with value: 0.6469948950290593.\n"
     ]
    },
    {
     "name": "stdout",
     "output_type": "stream",
     "text": [
      "\n",
      "Early stopping occurred at epoch 33 with best_epoch = 13 and best_valid_balanced_accuracy = 0.62143\n"
     ]
    },
    {
     "name": "stderr",
     "output_type": "stream",
     "text": [
      "[I 2025-07-21 20:22:50,018] Trial 29 finished with value: 0.6214303794958175 and parameters: {'lr': 0.029498829081664363, 'gamma': 1.1763425010871336, 'step_size': 19, 'n_d': 7, 'n_a': 10, 'lambda_sparse': 4.518602750649629e-05, 'momentum': 0.26777359895409486}. Best is trial 9 with value: 0.6469948950290593.\n"
     ]
    },
    {
     "name": "stdout",
     "output_type": "stream",
     "text": [
      "\n",
      "Early stopping occurred at epoch 72 with best_epoch = 52 and best_valid_balanced_accuracy = 0.60598\n"
     ]
    },
    {
     "name": "stderr",
     "output_type": "stream",
     "text": [
      "[I 2025-07-21 20:24:32,836] Trial 22 finished with value: 0.6059798940330021 and parameters: {'lr': 0.0952692889472698, 'gamma': 1.3060511193396376, 'step_size': 24, 'n_d': 6, 'n_a': 10, 'lambda_sparse': 0.009879002460411516, 'momentum': 0.33318135517990866}. Best is trial 9 with value: 0.6469948950290593.\n"
     ]
    },
    {
     "name": "stdout",
     "output_type": "stream",
     "text": [
      "\n",
      "Early stopping occurred at epoch 28 with best_epoch = 8 and best_valid_balanced_accuracy = 0.60868\n"
     ]
    },
    {
     "name": "stderr",
     "output_type": "stream",
     "text": [
      "[I 2025-07-21 20:32:44,663] Trial 31 finished with value: 0.6086842053077856 and parameters: {'lr': 0.02919013390692645, 'gamma': 0.7285098718198302, 'step_size': 13, 'n_d': 7, 'n_a': 12, 'lambda_sparse': 0.00046345235104395215, 'momentum': 0.254709578046629}. Best is trial 9 with value: 0.6469948950290593.\n"
     ]
    },
    {
     "name": "stdout",
     "output_type": "stream",
     "text": [
      "\n",
      "Early stopping occurred at epoch 29 with best_epoch = 9 and best_valid_balanced_accuracy = 0.5772\n"
     ]
    },
    {
     "name": "stderr",
     "output_type": "stream",
     "text": [
      "[I 2025-07-21 20:44:04,816] Trial 35 finished with value: 0.5771986259725814 and parameters: {'lr': 0.01786523849871084, 'gamma': 0.8542963338812721, 'step_size': 33, 'n_d': 7, 'n_a': 12, 'lambda_sparse': 0.005351766647319023, 'momentum': 0.4513492063381438}. Best is trial 9 with value: 0.6469948950290593.\n"
     ]
    },
    {
     "name": "stdout",
     "output_type": "stream",
     "text": [
      "\n",
      "Early stopping occurred at epoch 49 with best_epoch = 29 and best_valid_balanced_accuracy = 0.62958\n"
     ]
    },
    {
     "name": "stderr",
     "output_type": "stream",
     "text": [
      "[I 2025-07-21 20:47:20,079] Trial 32 finished with value: 0.6295769213371505 and parameters: {'lr': 0.030433978537562842, 'gamma': 0.7977694374432098, 'step_size': 34, 'n_d': 7, 'n_a': 12, 'lambda_sparse': 0.006115767956071435, 'momentum': 0.27487965998823205}. Best is trial 9 with value: 0.6469948950290593.\n"
     ]
    },
    {
     "name": "stdout",
     "output_type": "stream",
     "text": [
      "\n",
      "Early stopping occurred at epoch 58 with best_epoch = 38 and best_valid_balanced_accuracy = 0.61897\n"
     ]
    },
    {
     "name": "stderr",
     "output_type": "stream",
     "text": [
      "[I 2025-07-21 20:47:55,927] Trial 30 finished with value: 0.618972107938115 and parameters: {'lr': 0.0044188141721230225, 'gamma': 0.7802697862069907, 'step_size': 33, 'n_d': 6, 'n_a': 10, 'lambda_sparse': 0.00044438357732031153, 'momentum': 0.5016895918276714}. Best is trial 9 with value: 0.6469948950290593.\n"
     ]
    },
    {
     "name": "stdout",
     "output_type": "stream",
     "text": [
      "\n",
      "Early stopping occurred at epoch 42 with best_epoch = 22 and best_valid_balanced_accuracy = 0.6538\n"
     ]
    },
    {
     "name": "stderr",
     "output_type": "stream",
     "text": [
      "[I 2025-07-21 20:51:23,695] Trial 34 finished with value: 0.6538033634198316 and parameters: {'lr': 0.03725942711935013, 'gamma': 1.6755330331671279, 'step_size': 31, 'n_d': 7, 'n_a': 12, 'lambda_sparse': 0.005528703299483153, 'momentum': 0.25160058610948155}. Best is trial 34 with value: 0.6538033634198316.\n"
     ]
    },
    {
     "name": "stdout",
     "output_type": "stream",
     "text": [
      "\n",
      "Early stopping occurred at epoch 60 with best_epoch = 40 and best_valid_balanced_accuracy = 0.61359\n"
     ]
    },
    {
     "name": "stderr",
     "output_type": "stream",
     "text": [
      "[I 2025-07-21 21:00:48,071] Trial 33 finished with value: 0.6135888890573826 and parameters: {'lr': 0.028893701309029293, 'gamma': 0.8784609489764466, 'step_size': 33, 'n_d': 7, 'n_a': 12, 'lambda_sparse': 0.00439710022894789, 'momentum': 0.8869676861245799}. Best is trial 34 with value: 0.6538033634198316.\n"
     ]
    },
    {
     "name": "stdout",
     "output_type": "stream",
     "text": [
      "\n",
      "Early stopping occurred at epoch 108 with best_epoch = 88 and best_valid_balanced_accuracy = 0.56223\n"
     ]
    },
    {
     "name": "stderr",
     "output_type": "stream",
     "text": [
      "[I 2025-07-21 21:06:03,735] Trial 25 finished with value: 0.562231354581947 and parameters: {'lr': 0.0028135553853367184, 'gamma': 1.232706497129432, 'step_size': 21, 'n_d': 6, 'n_a': 10, 'lambda_sparse': 0.000515007365474123, 'momentum': 0.48430297216404145}. Best is trial 34 with value: 0.6538033634198316.\n"
     ]
    },
    {
     "name": "stdout",
     "output_type": "stream",
     "text": [
      "\n",
      "Early stopping occurred at epoch 72 with best_epoch = 52 and best_valid_balanced_accuracy = 0.64238\n"
     ]
    },
    {
     "name": "stderr",
     "output_type": "stream",
     "text": [
      "[I 2025-07-21 21:15:36,347] Trial 36 finished with value: 0.6423784262712301 and parameters: {'lr': 0.003127617032124925, 'gamma': 0.9201057163822823, 'step_size': 35, 'n_d': 9, 'n_a': 12, 'lambda_sparse': 0.005514907401377308, 'momentum': 0.10035474598209443}. Best is trial 34 with value: 0.6538033634198316.\n"
     ]
    },
    {
     "name": "stdout",
     "output_type": "stream",
     "text": [
      "\n",
      "Early stopping occurred at epoch 47 with best_epoch = 27 and best_valid_balanced_accuracy = 0.60577\n",
      "\n",
      "Early stopping occurred at epoch 42 with best_epoch = 22 and best_valid_balanced_accuracy = 0.60765\n"
     ]
    },
    {
     "name": "stderr",
     "output_type": "stream",
     "text": [
      "[I 2025-07-21 21:17:54,584] Trial 38 finished with value: 0.6057670994233497 and parameters: {'lr': 0.010176984845230934, 'gamma': 1.694001126252739, 'step_size': 37, 'n_d': 5, 'n_a': 12, 'lambda_sparse': 0.00031627759263360864, 'momentum': 0.43377397811132706}. Best is trial 34 with value: 0.6538033634198316.\n",
      "[I 2025-07-21 21:18:08,338] Trial 40 finished with value: 0.6076483318279069 and parameters: {'lr': 0.012455694882317596, 'gamma': 1.6303500232553807, 'step_size': 39, 'n_d': 5, 'n_a': 13, 'lambda_sparse': 0.00028666848603059827, 'momentum': 0.8750240128171662}. Best is trial 34 with value: 0.6538033634198316.\n"
     ]
    },
    {
     "name": "stdout",
     "output_type": "stream",
     "text": [
      "\n",
      "Early stopping occurred at epoch 39 with best_epoch = 19 and best_valid_balanced_accuracy = 0.60596\n"
     ]
    },
    {
     "name": "stderr",
     "output_type": "stream",
     "text": [
      "[I 2025-07-21 21:19:46,155] Trial 41 finished with value: 0.605963355726149 and parameters: {'lr': 0.04979635013864083, 'gamma': 1.6600446812292664, 'step_size': 38, 'n_d': 9, 'n_a': 13, 'lambda_sparse': 0.0044186971962158405, 'momentum': 0.6169506967420635}. Best is trial 34 with value: 0.6538033634198316.\n"
     ]
    },
    {
     "name": "stdout",
     "output_type": "stream",
     "text": [
      "\n",
      "Early stopping occurred at epoch 49 with best_epoch = 29 and best_valid_balanced_accuracy = 0.61897\n"
     ]
    },
    {
     "name": "stderr",
     "output_type": "stream",
     "text": [
      "[I 2025-07-21 21:36:09,319] Trial 42 finished with value: 0.6189669235159041 and parameters: {'lr': 0.01236995075683421, 'gamma': 1.6385430537268926, 'step_size': 39, 'n_d': 8, 'n_a': 13, 'lambda_sparse': 0.0002904373140885862, 'momentum': 0.6118983194727865}. Best is trial 34 with value: 0.6538033634198316.\n"
     ]
    },
    {
     "name": "stdout",
     "output_type": "stream",
     "text": [
      "\n",
      "Early stopping occurred at epoch 45 with best_epoch = 25 and best_valid_balanced_accuracy = 0.5882\n"
     ]
    },
    {
     "name": "stderr",
     "output_type": "stream",
     "text": [
      "[I 2025-07-21 21:38:35,762] Trial 43 finished with value: 0.5882045192349193 and parameters: {'lr': 0.011596832905127186, 'gamma': 1.6680964666453932, 'step_size': 39, 'n_d': 8, 'n_a': 13, 'lambda_sparse': 0.00028959663793427554, 'momentum': 0.6325341700167584}. Best is trial 34 with value: 0.6538033634198316.\n"
     ]
    },
    {
     "name": "stdout",
     "output_type": "stream",
     "text": [
      "\n",
      "Early stopping occurred at epoch 32 with best_epoch = 12 and best_valid_balanced_accuracy = 0.63229\n"
     ]
    },
    {
     "name": "stderr",
     "output_type": "stream",
     "text": [
      "[I 2025-07-21 21:41:34,379] Trial 46 finished with value: 0.6322930919777418 and parameters: {'lr': 0.04438284946336379, 'gamma': 1.054645360868017, 'step_size': 29, 'n_d': 9, 'n_a': 9, 'lambda_sparse': 0.00592235261326367, 'momentum': 0.10031523640358744}. Best is trial 34 with value: 0.6538033634198316.\n"
     ]
    },
    {
     "name": "stdout",
     "output_type": "stream",
     "text": [
      "\n",
      "Early stopping occurred at epoch 99 with best_epoch = 79 and best_valid_balanced_accuracy = 0.61349\n"
     ]
    },
    {
     "name": "stderr",
     "output_type": "stream",
     "text": [
      "[I 2025-07-21 21:43:20,903] Trial 37 finished with value: 0.6134896851383742 and parameters: {'lr': 0.0029848071370150975, 'gamma': 0.9981319165962589, 'step_size': 31, 'n_d': 9, 'n_a': 12, 'lambda_sparse': 0.004901493056666894, 'momentum': 0.88131951907669}. Best is trial 34 with value: 0.6538033634198316.\n"
     ]
    },
    {
     "name": "stdout",
     "output_type": "stream",
     "text": [
      "\n",
      "Early stopping occurred at epoch 81 with best_epoch = 61 and best_valid_balanced_accuracy = 0.61457\n"
     ]
    },
    {
     "name": "stderr",
     "output_type": "stream",
     "text": [
      "[I 2025-07-21 21:45:05,933] Trial 39 finished with value: 0.6145725165224295 and parameters: {'lr': 0.010948252882655433, 'gamma': 1.6387410155900333, 'step_size': 39, 'n_d': 5, 'n_a': 9, 'lambda_sparse': 0.0002944846486640618, 'momentum': 0.87931322356529}. Best is trial 34 with value: 0.6538033634198316.\n"
     ]
    },
    {
     "name": "stdout",
     "output_type": "stream",
     "text": [
      "\n",
      "Early stopping occurred at epoch 50 with best_epoch = 30 and best_valid_balanced_accuracy = 0.59789\n"
     ]
    },
    {
     "name": "stderr",
     "output_type": "stream",
     "text": [
      "[I 2025-07-21 21:54:19,384] Trial 45 finished with value: 0.5978880478459956 and parameters: {'lr': 0.056201290858775135, 'gamma': 1.6360339933446522, 'step_size': 30, 'n_d': 10, 'n_a': 13, 'lambda_sparse': 0.003160602043347699, 'momentum': 0.20578541582406495}. Best is trial 34 with value: 0.6538033634198316.\n"
     ]
    },
    {
     "name": "stdout",
     "output_type": "stream",
     "text": [
      "\n",
      "Early stopping occurred at epoch 43 with best_epoch = 23 and best_valid_balanced_accuracy = 0.5678\n"
     ]
    },
    {
     "name": "stderr",
     "output_type": "stream",
     "text": [
      "[I 2025-07-21 22:07:27,893] Trial 48 finished with value: 0.567799631413503 and parameters: {'lr': 0.002083922795292898, 'gamma': 1.0074507752461612, 'step_size': 28, 'n_d': 10, 'n_a': 9, 'lambda_sparse': 0.0061804324056925295, 'momentum': 0.18136020924061197}. Best is trial 34 with value: 0.6538033634198316.\n"
     ]
    },
    {
     "name": "stdout",
     "output_type": "stream",
     "text": [
      "\n",
      "Early stopping occurred at epoch 81 with best_epoch = 61 and best_valid_balanced_accuracy = 0.59837\n"
     ]
    },
    {
     "name": "stderr",
     "output_type": "stream",
     "text": [
      "[I 2025-07-21 22:13:44,287] Trial 44 finished with value: 0.59836913630507 and parameters: {'lr': 0.011541850566603527, 'gamma': 1.6877168126454642, 'step_size': 36, 'n_d': 9, 'n_a': 13, 'lambda_sparse': 0.0032054815235436846, 'momentum': 0.1163709485787956}. Best is trial 34 with value: 0.6538033634198316.\n"
     ]
    },
    {
     "name": "stdout",
     "output_type": "stream",
     "text": [
      "\n",
      "Early stopping occurred at epoch 78 with best_epoch = 58 and best_valid_balanced_accuracy = 0.58751\n"
     ]
    },
    {
     "name": "stderr",
     "output_type": "stream",
     "text": [
      "[I 2025-07-21 22:15:40,613] Trial 47 finished with value: 0.587512567363466 and parameters: {'lr': 0.006994522415452429, 'gamma': 1.0513326536377487, 'step_size': 30, 'n_d': 10, 'n_a': 9, 'lambda_sparse': 0.0030683456820952927, 'momentum': 0.1031088428259039}. Best is trial 34 with value: 0.6538033634198316.\n"
     ]
    },
    {
     "name": "stdout",
     "output_type": "stream",
     "text": [
      "\n",
      "Early stopping occurred at epoch 55 with best_epoch = 35 and best_valid_balanced_accuracy = 0.62577\n"
     ]
    },
    {
     "name": "stderr",
     "output_type": "stream",
     "text": [
      "[I 2025-07-21 22:18:07,414] Trial 49 finished with value: 0.6257686521578019 and parameters: {'lr': 0.0019371810812400334, 'gamma': 1.0366967844116863, 'step_size': 28, 'n_d': 9, 'n_a': 9, 'lambda_sparse': 0.006073084483314217, 'momentum': 0.2003972392605925}. Best is trial 34 with value: 0.6538033634198316.\n"
     ]
    },
    {
     "name": "stdout",
     "output_type": "stream",
     "text": [
      "\n",
      "Early stopping occurred at epoch 46 with best_epoch = 26 and best_valid_balanced_accuracy = 0.58831\n"
     ]
    },
    {
     "name": "stderr",
     "output_type": "stream",
     "text": [
      "[I 2025-07-21 22:27:42,902] Trial 53 finished with value: 0.5883079095748631 and parameters: {'lr': 0.006179956682329373, 'gamma': 0.42703337680340425, 'step_size': 47, 'n_d': 8, 'n_a': 12, 'lambda_sparse': 8.958847752874999e-05, 'momentum': 0.13358636066827007}. Best is trial 34 with value: 0.6538033634198316.\n"
     ]
    },
    {
     "name": "stdout",
     "output_type": "stream",
     "text": [
      "\n",
      "Early stopping occurred at epoch 75 with best_epoch = 55 and best_valid_balanced_accuracy = 0.5846\n"
     ]
    },
    {
     "name": "stderr",
     "output_type": "stream",
     "text": [
      "[I 2025-07-21 22:35:33,805] Trial 50 finished with value: 0.5845994146009661 and parameters: {'lr': 0.0007445061815259065, 'gamma': 0.9594703370984732, 'step_size': 48, 'n_d': 10, 'n_a': 12, 'lambda_sparse': 0.0032685915363946153, 'momentum': 0.1930899508123356}. Best is trial 34 with value: 0.6538033634198316.\n"
     ]
    },
    {
     "name": "stdout",
     "output_type": "stream",
     "text": [
      "\n",
      "Early stopping occurred at epoch 98 with best_epoch = 78 and best_valid_balanced_accuracy = 0.60507\n",
      "\n",
      "Early stopping occurred at epoch 51 with best_epoch = 31 and best_valid_balanced_accuracy = 0.60716\n"
     ]
    },
    {
     "name": "stderr",
     "output_type": "stream",
     "text": [
      "[I 2025-07-21 22:55:12,988] Trial 52 finished with value: 0.6050664766057484 and parameters: {'lr': 0.0008510290536033273, 'gamma': 0.4157480384153652, 'step_size': 47, 'n_d': 10, 'n_a': 8, 'lambda_sparse': 8.224018255425071e-05, 'momentum': 0.1864283912701971}. Best is trial 34 with value: 0.6538033634198316.\n",
      "[I 2025-07-21 22:55:12,991] Trial 57 finished with value: 0.6071627329215088 and parameters: {'lr': 0.000802570039363908, 'gamma': 0.37773960872876744, 'step_size': 48, 'n_d': 8, 'n_a': 8, 'lambda_sparse': 7.127149818716393e-05, 'momentum': 0.3170930979554702}. Best is trial 34 with value: 0.6538033634198316.\n"
     ]
    },
    {
     "name": "stdout",
     "output_type": "stream",
     "text": [
      "\n",
      "Early stopping occurred at epoch 87 with best_epoch = 67 and best_valid_balanced_accuracy = 0.5973\n"
     ]
    },
    {
     "name": "stderr",
     "output_type": "stream",
     "text": [
      "[I 2025-07-21 23:11:18,824] Trial 54 finished with value: 0.5972991882102091 and parameters: {'lr': 0.0006645620710319161, 'gamma': 0.3542413273241729, 'step_size': 36, 'n_d': 8, 'n_a': 8, 'lambda_sparse': 0.001680860739325366, 'momentum': 0.21698782858972684}. Best is trial 34 with value: 0.6538033634198316.\n"
     ]
    },
    {
     "name": "stdout",
     "output_type": "stream",
     "text": [
      "\n",
      "Early stopping occurred at epoch 79 with best_epoch = 59 and best_valid_balanced_accuracy = 0.60468\n"
     ]
    },
    {
     "name": "stderr",
     "output_type": "stream",
     "text": [
      "[I 2025-07-21 23:12:08,896] Trial 55 finished with value: 0.6046812092301899 and parameters: {'lr': 0.006196426247587413, 'gamma': 0.40227779786879003, 'step_size': 48, 'n_d': 8, 'n_a': 8, 'lambda_sparse': 0.001483241824438185, 'momentum': 0.22560657641214293}. Best is trial 34 with value: 0.6538033634198316.\n"
     ]
    },
    {
     "name": "stdout",
     "output_type": "stream",
     "text": [
      "\n",
      "Early stopping occurred at epoch 124 with best_epoch = 104 and best_valid_balanced_accuracy = 0.5807\n"
     ]
    },
    {
     "name": "stderr",
     "output_type": "stream",
     "text": [
      "[I 2025-07-21 23:13:03,045] Trial 51 finished with value: 0.5807013382678663 and parameters: {'lr': 0.000699646065856865, 'gamma': 0.33692894164936193, 'step_size': 29, 'n_d': 10, 'n_a': 9, 'lambda_sparse': 0.0031440740993565427, 'momentum': 0.2080514989250008}. Best is trial 34 with value: 0.6538033634198316.\n"
     ]
    },
    {
     "name": "stdout",
     "output_type": "stream",
     "text": [
      "\n",
      "Early stopping occurred at epoch 27 with best_epoch = 7 and best_valid_balanced_accuracy = 0.57263\n"
     ]
    },
    {
     "name": "stderr",
     "output_type": "stream",
     "text": [
      "[I 2025-07-21 23:17:27,009] Trial 61 finished with value: 0.5726341051253068 and parameters: {'lr': 0.055932900105652265, 'gamma': 1.5193314918748193, 'step_size': 42, 'n_d': 5, 'n_a': 11, 'lambda_sparse': 0.001475645013564387, 'momentum': 0.41877910757617826}. Best is trial 34 with value: 0.6538033634198316.\n"
     ]
    },
    {
     "name": "stdout",
     "output_type": "stream",
     "text": [
      "\n",
      "Early stopping occurred at epoch 40 with best_epoch = 20 and best_valid_balanced_accuracy = 0.58357\n"
     ]
    },
    {
     "name": "stderr",
     "output_type": "stream",
     "text": [
      "[I 2025-07-21 23:28:31,229] Trial 60 finished with value: 0.5835727434705118 and parameters: {'lr': 0.0202513022953213, 'gamma': 1.523501397601017, 'step_size': 42, 'n_d': 5, 'n_a': 11, 'lambda_sparse': 0.00020373772289077678, 'momentum': 0.4050047648430208}. Best is trial 34 with value: 0.6538033634198316.\n"
     ]
    },
    {
     "name": "stdout",
     "output_type": "stream",
     "text": [
      "\n",
      "Early stopping occurred at epoch 83 with best_epoch = 63 and best_valid_balanced_accuracy = 0.59983\n"
     ]
    },
    {
     "name": "stderr",
     "output_type": "stream",
     "text": [
      "[I 2025-07-21 23:31:32,587] Trial 58 finished with value: 0.5998323228246392 and parameters: {'lr': 0.001050142660447325, 'gamma': 1.5119344411850164, 'step_size': 35, 'n_d': 5, 'n_a': 11, 'lambda_sparse': 0.0014851600729289328, 'momentum': 0.4101658170321028}. Best is trial 34 with value: 0.6538033634198316.\n"
     ]
    },
    {
     "name": "stdout",
     "output_type": "stream",
     "text": [
      "\n",
      "Early stopping occurred at epoch 102 with best_epoch = 82 and best_valid_balanced_accuracy = 0.5989\n"
     ]
    },
    {
     "name": "stderr",
     "output_type": "stream",
     "text": [
      "[I 2025-07-21 23:32:57,407] Trial 56 finished with value: 0.5988981806695965 and parameters: {'lr': 0.0006306855501086784, 'gamma': 0.5464607015598549, 'step_size': 48, 'n_d': 8, 'n_a': 11, 'lambda_sparse': 0.0016701165226684653, 'momentum': 0.7753763131732542}. Best is trial 34 with value: 0.6538033634198316.\n"
     ]
    },
    {
     "name": "stdout",
     "output_type": "stream",
     "text": [
      "\n",
      "Early stopping occurred at epoch 30 with best_epoch = 10 and best_valid_balanced_accuracy = 0.59253\n"
     ]
    },
    {
     "name": "stderr",
     "output_type": "stream",
     "text": [
      "[I 2025-07-21 23:36:13,743] Trial 62 finished with value: 0.5925251259782194 and parameters: {'lr': 0.019389757341848505, 'gamma': 1.79608753390066, 'step_size': 42, 'n_d': 5, 'n_a': 11, 'lambda_sparse': 0.0001762571527029015, 'momentum': 0.409591916848164}. Best is trial 34 with value: 0.6538033634198316.\n"
     ]
    },
    {
     "name": "stdout",
     "output_type": "stream",
     "text": [
      "\n",
      "Early stopping occurred at epoch 85 with best_epoch = 65 and best_valid_balanced_accuracy = 0.55195\n"
     ]
    },
    {
     "name": "stderr",
     "output_type": "stream",
     "text": [
      "[I 2025-07-21 23:41:00,139] Trial 59 finished with value: 0.5519483382695514 and parameters: {'lr': 0.0008901133720426491, 'gamma': 1.8090179804828952, 'step_size': 42, 'n_d': 5, 'n_a': 11, 'lambda_sparse': 0.00010388102127591384, 'momentum': 0.40814597437356687}. Best is trial 34 with value: 0.6538033634198316.\n"
     ]
    },
    {
     "name": "stdout",
     "output_type": "stream",
     "text": [
      "\n",
      "Early stopping occurred at epoch 36 with best_epoch = 16 and best_valid_balanced_accuracy = 0.5716\n"
     ]
    },
    {
     "name": "stderr",
     "output_type": "stream",
     "text": [
      "[I 2025-07-21 23:41:17,071] Trial 63 finished with value: 0.571603416067639 and parameters: {'lr': 0.017651212623654166, 'gamma': 0.6052748061316472, 'step_size': 41, 'n_d': 5, 'n_a': 11, 'lambda_sparse': 1.1609767861001054e-05, 'momentum': 0.4169678647720648}. Best is trial 34 with value: 0.6538033634198316.\n"
     ]
    },
    {
     "name": "stdout",
     "output_type": "stream",
     "text": [
      "\n",
      "Early stopping occurred at epoch 50 with best_epoch = 30 and best_valid_balanced_accuracy = 0.61183\n"
     ]
    },
    {
     "name": "stderr",
     "output_type": "stream",
     "text": [
      "[I 2025-07-21 23:55:53,989] Trial 65 finished with value: 0.6118282851966212 and parameters: {'lr': 0.019842901670454813, 'gamma': 1.8337156543711874, 'step_size': 41, 'n_d': 6, 'n_a': 11, 'lambda_sparse': 0.00016710770633743372, 'momentum': 0.39838756918049}. Best is trial 34 with value: 0.6538033634198316.\n"
     ]
    },
    {
     "name": "stdout",
     "output_type": "stream",
     "text": [
      "\n",
      "Early stopping occurred at epoch 47 with best_epoch = 27 and best_valid_balanced_accuracy = 0.54971\n"
     ]
    },
    {
     "name": "stderr",
     "output_type": "stream",
     "text": [
      "[I 2025-07-22 00:03:54,102] Trial 66 finished with value: 0.5497119599824818 and parameters: {'lr': 0.00124502737875352, 'gamma': 1.823468340400093, 'step_size': 16, 'n_d': 6, 'n_a': 11, 'lambda_sparse': 1.1607738241061667e-05, 'momentum': 0.35792387385093777}. Best is trial 34 with value: 0.6538033634198316.\n"
     ]
    },
    {
     "name": "stdout",
     "output_type": "stream",
     "text": [
      "\n",
      "Early stopping occurred at epoch 30 with best_epoch = 10 and best_valid_balanced_accuracy = 0.63535\n"
     ]
    },
    {
     "name": "stderr",
     "output_type": "stream",
     "text": [
      "[I 2025-07-22 00:04:14,287] Trial 70 finished with value: 0.6353511493410405 and parameters: {'lr': 0.07022225150829382, 'gamma': 1.9974319972853944, 'step_size': 23, 'n_d': 6, 'n_a': 12, 'lambda_sparse': 0.00768835408337393, 'momentum': 0.33420543357270127}. Best is trial 34 with value: 0.6538033634198316.\n"
     ]
    },
    {
     "name": "stdout",
     "output_type": "stream",
     "text": [
      "\n",
      "Early stopping occurred at epoch 48 with best_epoch = 28 and best_valid_balanced_accuracy = 0.61884\n"
     ]
    },
    {
     "name": "stderr",
     "output_type": "stream",
     "text": [
      "[I 2025-07-22 00:13:46,539] Trial 69 finished with value: 0.6188383239229589 and parameters: {'lr': 0.06902916478499262, 'gamma': 1.374501148556069, 'step_size': 24, 'n_d': 6, 'n_a': 12, 'lambda_sparse': 0.0075841200803910234, 'momentum': 0.352928876630177}. Best is trial 34 with value: 0.6538033634198316.\n"
     ]
    },
    {
     "name": "stdout",
     "output_type": "stream",
     "text": [
      "\n",
      "Early stopping occurred at epoch 52 with best_epoch = 32 and best_valid_balanced_accuracy = 0.62011\n"
     ]
    },
    {
     "name": "stderr",
     "output_type": "stream",
     "text": [
      "[I 2025-07-22 00:23:13,323] Trial 71 finished with value: 0.6201061873357268 and parameters: {'lr': 0.03864249553216553, 'gamma': 1.3803181911732931, 'step_size': 25, 'n_d': 6, 'n_a': 12, 'lambda_sparse': 0.007537804142432595, 'momentum': 0.3553920459642912}. Best is trial 34 with value: 0.6538033634198316.\n"
     ]
    },
    {
     "name": "stdout",
     "output_type": "stream",
     "text": [
      "\n",
      "Early stopping occurred at epoch 31 with best_epoch = 11 and best_valid_balanced_accuracy = 0.64225\n",
      "\n",
      "Early stopping occurred at epoch 31 with best_epoch = 11 and best_valid_balanced_accuracy = 0.61502\n"
     ]
    },
    {
     "name": "stderr",
     "output_type": "stream",
     "text": [
      "[I 2025-07-22 00:31:18,639] Trial 73 finished with value: 0.6422506561858388 and parameters: {'lr': 0.0689355041816458, 'gamma': 1.407689047719422, 'step_size': 25, 'n_d': 6, 'n_a': 12, 'lambda_sparse': 0.007337509466999159, 'momentum': 0.3337013174208616}. Best is trial 34 with value: 0.6538033634198316.\n",
      "[I 2025-07-22 00:31:32,894] Trial 74 finished with value: 0.6150165752458616 and parameters: {'lr': 0.06898982510220589, 'gamma': 1.1329296224570795, 'step_size': 24, 'n_d': 6, 'n_a': 12, 'lambda_sparse': 0.007629479482829943, 'momentum': 0.31452068705637204}. Best is trial 34 with value: 0.6538033634198316.\n"
     ]
    },
    {
     "name": "stdout",
     "output_type": "stream",
     "text": [
      "\n",
      "Early stopping occurred at epoch 84 with best_epoch = 64 and best_valid_balanced_accuracy = 0.58268\n"
     ]
    },
    {
     "name": "stderr",
     "output_type": "stream",
     "text": [
      "[I 2025-07-22 00:40:32,827] Trial 68 finished with value: 0.5826754366352789 and parameters: {'lr': 0.0004119368441667253, 'gamma': 1.8188808245121442, 'step_size': 23, 'n_d': 6, 'n_a': 12, 'lambda_sparse': 0.009164748582198158, 'momentum': 0.34020519917405007}. Best is trial 34 with value: 0.6538033634198316.\n"
     ]
    },
    {
     "name": "stdout",
     "output_type": "stream",
     "text": [
      "\n",
      "Early stopping occurred at epoch 53 with best_epoch = 33 and best_valid_balanced_accuracy = 0.6238\n"
     ]
    },
    {
     "name": "stderr",
     "output_type": "stream",
     "text": [
      "[I 2025-07-22 00:40:54,065] Trial 72 finished with value: 0.6237976125994938 and parameters: {'lr': 0.07027750186582626, 'gamma': 1.412673596264228, 'step_size': 22, 'n_d': 6, 'n_a': 12, 'lambda_sparse': 0.007549858766890661, 'momentum': 0.34770114891150955}. Best is trial 34 with value: 0.6538033634198316.\n"
     ]
    },
    {
     "name": "stdout",
     "output_type": "stream",
     "text": [
      "\n",
      "Early stopping occurred at epoch 28 with best_epoch = 8 and best_valid_balanced_accuracy = 0.5788\n"
     ]
    },
    {
     "name": "stderr",
     "output_type": "stream",
     "text": [
      "[I 2025-07-22 00:56:17,465] Trial 78 finished with value: 0.5787968537296928 and parameters: {'lr': 0.04014716698329776, 'gamma': 1.961892802873535, 'step_size': 22, 'n_d': 7, 'n_a': 12, 'lambda_sparse': 0.0022409927264193186, 'momentum': 0.7302501386138414}. Best is trial 34 with value: 0.6538033634198316.\n"
     ]
    },
    {
     "name": "stdout",
     "output_type": "stream",
     "text": [
      "\n",
      "Early stopping occurred at epoch 132 with best_epoch = 112 and best_valid_balanced_accuracy = 0.57172\n"
     ]
    },
    {
     "name": "stderr",
     "output_type": "stream",
     "text": [
      "[I 2025-07-22 00:59:59,688] Trial 64 finished with value: 0.5717194304756669 and parameters: {'lr': 0.0002538118659208887, 'gamma': 1.8193283510226719, 'step_size': 42, 'n_d': 5, 'n_a': 11, 'lambda_sparse': 1.2247425650450994e-05, 'momentum': 0.41223308974256223}. Best is trial 34 with value: 0.6538033634198316.\n"
     ]
    },
    {
     "name": "stdout",
     "output_type": "stream",
     "text": [
      "\n",
      "Early stopping occurred at epoch 122 with best_epoch = 102 and best_valid_balanced_accuracy = 0.55983\n"
     ]
    },
    {
     "name": "stderr",
     "output_type": "stream",
     "text": [
      "[I 2025-07-22 01:10:47,588] Trial 67 finished with value: 0.5598251605453546 and parameters: {'lr': 0.0002563912180380087, 'gamma': 1.8419225071559233, 'step_size': 25, 'n_d': 6, 'n_a': 6, 'lambda_sparse': 1.267812512849449e-05, 'momentum': 0.3131659039502145}. Best is trial 34 with value: 0.6538033634198316.\n"
     ]
    },
    {
     "name": "stdout",
     "output_type": "stream",
     "text": [
      "\n",
      "Early stopping occurred at epoch 69 with best_epoch = 49 and best_valid_balanced_accuracy = 0.60029\n"
     ]
    },
    {
     "name": "stderr",
     "output_type": "stream",
     "text": [
      "[I 2025-07-22 01:12:48,050] Trial 75 finished with value: 0.6002898610458198 and parameters: {'lr': 0.0004261678613477403, 'gamma': 1.9941573641428374, 'step_size': 23, 'n_d': 7, 'n_a': 12, 'lambda_sparse': 0.00709413227869637, 'momentum': 0.31460587728851025}. Best is trial 34 with value: 0.6538033634198316.\n"
     ]
    },
    {
     "name": "stdout",
     "output_type": "stream",
     "text": [
      "\n",
      "Early stopping occurred at epoch 38 with best_epoch = 18 and best_valid_balanced_accuracy = 0.63261\n"
     ]
    },
    {
     "name": "stderr",
     "output_type": "stream",
     "text": [
      "[I 2025-07-22 01:13:33,882] Trial 79 finished with value: 0.6326080456270631 and parameters: {'lr': 0.04304738481199278, 'gamma': 1.965003391811335, 'step_size': 22, 'n_d': 7, 'n_a': 6, 'lambda_sparse': 0.0043037285159617435, 'momentum': 0.2944607193480315}. Best is trial 34 with value: 0.6538033634198316.\n"
     ]
    },
    {
     "name": "stdout",
     "output_type": "stream",
     "text": [
      "\n",
      "Early stopping occurred at epoch 58 with best_epoch = 38 and best_valid_balanced_accuracy = 0.59596\n"
     ]
    },
    {
     "name": "stderr",
     "output_type": "stream",
     "text": [
      "[I 2025-07-22 01:30:30,652] Trial 80 finished with value: 0.5959629422684777 and parameters: {'lr': 0.03556553612670284, 'gamma': 1.9704002986423776, 'step_size': 32, 'n_d': 7, 'n_a': 13, 'lambda_sparse': 0.004225392184479942, 'momentum': 0.2883670287226279}. Best is trial 34 with value: 0.6538033634198316.\n"
     ]
    },
    {
     "name": "stdout",
     "output_type": "stream",
     "text": [
      "\n",
      "Early stopping occurred at epoch 33 with best_epoch = 13 and best_valid_balanced_accuracy = 0.61354\n"
     ]
    },
    {
     "name": "stderr",
     "output_type": "stream",
     "text": [
      "[I 2025-07-22 01:39:21,336] Trial 83 finished with value: 0.6135385742398244 and parameters: {'lr': 0.09458454266637056, 'gamma': 1.744114900990891, 'step_size': 17, 'n_d': 7, 'n_a': 13, 'lambda_sparse': 0.004592318727219591, 'momentum': 0.28758241164110704}. Best is trial 34 with value: 0.6538033634198316.\n"
     ]
    },
    {
     "name": "stdout",
     "output_type": "stream",
     "text": [
      "\n",
      "Early stopping occurred at epoch 31 with best_epoch = 11 and best_valid_balanced_accuracy = 0.61355\n"
     ]
    },
    {
     "name": "stderr",
     "output_type": "stream",
     "text": [
      "[I 2025-07-22 01:40:01,313] Trial 84 finished with value: 0.6135489690063575 and parameters: {'lr': 0.09907784705333168, 'gamma': 1.7405933072550335, 'step_size': 32, 'n_d': 7, 'n_a': 13, 'lambda_sparse': 0.001134791564363004, 'momentum': 0.46101554092314867}. Best is trial 34 with value: 0.6538033634198316.\n"
     ]
    },
    {
     "name": "stdout",
     "output_type": "stream",
     "text": [
      "\n",
      "Early stopping occurred at epoch 54 with best_epoch = 34 and best_valid_balanced_accuracy = 0.60315\n"
     ]
    },
    {
     "name": "stderr",
     "output_type": "stream",
     "text": [
      "[I 2025-07-22 01:46:08,552] Trial 82 finished with value: 0.6031457518649986 and parameters: {'lr': 0.09748793818306194, 'gamma': 0.9177339511525393, 'step_size': 32, 'n_d': 7, 'n_a': 12, 'lambda_sparse': 0.003951254307483931, 'momentum': 0.29325646440502046}. Best is trial 34 with value: 0.6538033634198316.\n"
     ]
    },
    {
     "name": "stdout",
     "output_type": "stream",
     "text": [
      "\n",
      "Early stopping occurred at epoch 65 with best_epoch = 45 and best_valid_balanced_accuracy = 0.63259\n"
     ]
    },
    {
     "name": "stderr",
     "output_type": "stream",
     "text": [
      "[I 2025-07-22 01:51:44,063] Trial 81 finished with value: 0.6325941643365929 and parameters: {'lr': 0.03894962998198618, 'gamma': 1.574188649336142, 'step_size': 18, 'n_d': 7, 'n_a': 13, 'lambda_sparse': 0.004065556694940713, 'momentum': 0.25220333554368124}. Best is trial 34 with value: 0.6538033634198316.\n"
     ]
    },
    {
     "name": "stdout",
     "output_type": "stream",
     "text": [
      "\n",
      "Early stopping occurred at epoch 49 with best_epoch = 29 and best_valid_balanced_accuracy = 0.60737\n"
     ]
    },
    {
     "name": "stderr",
     "output_type": "stream",
     "text": [
      "[I 2025-07-22 01:55:54,697] Trial 85 finished with value: 0.6073666232860139 and parameters: {'lr': 0.09933987359483075, 'gamma': 1.459706771433667, 'step_size': 32, 'n_d': 12, 'n_a': 13, 'lambda_sparse': 0.00013050412884670277, 'momentum': 0.4585783319562923}. Best is trial 34 with value: 0.6538033634198316.\n"
     ]
    },
    {
     "name": "stdout",
     "output_type": "stream",
     "text": [
      "\n",
      "Early stopping occurred at epoch 102 with best_epoch = 82 and best_valid_balanced_accuracy = 0.61749\n"
     ]
    },
    {
     "name": "stderr",
     "output_type": "stream",
     "text": [
      "[I 2025-07-22 01:57:54,629] Trial 77 finished with value: 0.6174911518114177 and parameters: {'lr': 0.00036251334891537756, 'gamma': 1.4481644509402982, 'step_size': 22, 'n_d': 7, 'n_a': 12, 'lambda_sparse': 0.007434530266953537, 'momentum': 0.32704327873138295}. Best is trial 34 with value: 0.6538033634198316.\n"
     ]
    },
    {
     "name": "stdout",
     "output_type": "stream",
     "text": [
      "\n",
      "Early stopping occurred at epoch 113 with best_epoch = 93 and best_valid_balanced_accuracy = 0.62625\n"
     ]
    },
    {
     "name": "stderr",
     "output_type": "stream",
     "text": [
      "[I 2025-07-22 01:59:07,249] Trial 76 finished with value: 0.6262467854962159 and parameters: {'lr': 0.00029498358358412814, 'gamma': 1.9596253671897785, 'step_size': 23, 'n_d': 7, 'n_a': 12, 'lambda_sparse': 0.002044116722559865, 'momentum': 0.31380277575667315}. Best is trial 34 with value: 0.6538033634198316.\n"
     ]
    },
    {
     "name": "stdout",
     "output_type": "stream",
     "text": [
      "\n",
      "Early stopping occurred at epoch 34 with best_epoch = 14 and best_valid_balanced_accuracy = 0.57802\n"
     ]
    },
    {
     "name": "stderr",
     "output_type": "stream",
     "text": [
      "[I 2025-07-22 02:00:20,512] Trial 86 finished with value: 0.5780187497221473 and parameters: {'lr': 0.00424814256687772, 'gamma': 1.5789707530898707, 'step_size': 18, 'n_d': 13, 'n_a': 13, 'lambda_sparse': 0.000239914013290505, 'momentum': 0.2471279161737699}. Best is trial 34 with value: 0.6538033634198316.\n"
     ]
    },
    {
     "name": "stdout",
     "output_type": "stream",
     "text": [
      "\n",
      "Early stopping occurred at epoch 29 with best_epoch = 9 and best_valid_balanced_accuracy = 0.6364\n"
     ]
    },
    {
     "name": "stderr",
     "output_type": "stream",
     "text": [
      "[I 2025-07-22 02:05:38,073] Trial 88 finished with value: 0.6364044295184929 and parameters: {'lr': 0.004420043613639144, 'gamma': 0.9075992466121711, 'step_size': 21, 'n_d': 12, 'n_a': 12, 'lambda_sparse': 0.00022254270077474232, 'momentum': 0.24655993829737666}. Best is trial 34 with value: 0.6538033634198316.\n"
     ]
    },
    {
     "name": "stdout",
     "output_type": "stream",
     "text": [
      "\n",
      "Early stopping occurred at epoch 31 with best_epoch = 11 and best_valid_balanced_accuracy = 0.60209\n"
     ]
    },
    {
     "name": "stderr",
     "output_type": "stream",
     "text": [
      "[I 2025-07-22 02:06:36,518] Trial 87 finished with value: 0.6020899572427739 and parameters: {'lr': 0.003971309201264515, 'gamma': 1.4656611550453396, 'step_size': 27, 'n_d': 13, 'n_a': 13, 'lambda_sparse': 0.00012837192416344034, 'momentum': 0.2529739629155896}. Best is trial 34 with value: 0.6538033634198316.\n"
     ]
    },
    {
     "name": "stdout",
     "output_type": "stream",
     "text": [
      "\n",
      "Early stopping occurred at epoch 35 with best_epoch = 15 and best_valid_balanced_accuracy = 0.61931\n"
     ]
    },
    {
     "name": "stderr",
     "output_type": "stream",
     "text": [
      "[I 2025-07-22 02:16:38,750] Trial 89 finished with value: 0.6193133984522685 and parameters: {'lr': 0.024482178162284905, 'gamma': 1.5747610324323857, 'step_size': 20, 'n_d': 13, 'n_a': 5, 'lambda_sparse': 0.005056916902962706, 'momentum': 0.24175850439087596}. Best is trial 34 with value: 0.6538033634198316.\n"
     ]
    },
    {
     "name": "stdout",
     "output_type": "stream",
     "text": [
      "\n",
      "Early stopping occurred at epoch 46 with best_epoch = 26 and best_valid_balanced_accuracy = 0.58649\n"
     ]
    },
    {
     "name": "stderr",
     "output_type": "stream",
     "text": [
      "[I 2025-07-22 02:31:27,505] Trial 90 finished with value: 0.5864883199503955 and parameters: {'lr': 0.004379355087981907, 'gamma': 1.909217144361041, 'step_size': 27, 'n_d': 11, 'n_a': 5, 'lambda_sparse': 0.00012641952618033136, 'momentum': 0.23601713180042985}. Best is trial 34 with value: 0.6538033634198316.\n"
     ]
    },
    {
     "name": "stdout",
     "output_type": "stream",
     "text": [
      "\n",
      "Early stopping occurred at epoch 49 with best_epoch = 29 and best_valid_balanced_accuracy = 0.62426\n"
     ]
    },
    {
     "name": "stderr",
     "output_type": "stream",
     "text": [
      "[I 2025-07-22 02:42:26,830] Trial 94 finished with value: 0.6242610610619952 and parameters: {'lr': 0.023028919131617285, 'gamma': 0.6737264919036055, 'step_size': 20, 'n_d': 6, 'n_a': 5, 'lambda_sparse': 0.009803477954253235, 'momentum': 0.16337331517101403}. Best is trial 34 with value: 0.6538033634198316.\n"
     ]
    },
    {
     "name": "stdout",
     "output_type": "stream",
     "text": [
      "\n",
      "Early stopping occurred at epoch 59 with best_epoch = 39 and best_valid_balanced_accuracy = 0.66485\n"
     ]
    },
    {
     "name": "stderr",
     "output_type": "stream",
     "text": [
      "[I 2025-07-22 02:46:30,043] Trial 91 finished with value: 0.6648501747344702 and parameters: {'lr': 0.024661276949600026, 'gamma': 1.899995840281072, 'step_size': 27, 'n_d': 6, 'n_a': 6, 'lambda_sparse': 0.0002195874329439208, 'momentum': 0.15003590502748304}. Best is trial 91 with value: 0.6648501747344702.\n"
     ]
    },
    {
     "name": "stdout",
     "output_type": "stream",
     "text": [
      "\n",
      "Early stopping occurred at epoch 47 with best_epoch = 27 and best_valid_balanced_accuracy = 0.52965\n",
      "\n",
      "Early stopping occurred at epoch 58 with best_epoch = 38 and best_valid_balanced_accuracy = 0.58779\n"
     ]
    },
    {
     "name": "stderr",
     "output_type": "stream",
     "text": [
      "[I 2025-07-22 02:47:10,971] Trial 96 finished with value: 0.5296468332706666 and parameters: {'lr': 0.00191602195554583, 'gamma': 0.7872607312335639, 'step_size': 20, 'n_d': 9, 'n_a': 12, 'lambda_sparse': 0.0058291107901704345, 'momentum': 0.16471261018402553}. Best is trial 91 with value: 0.6648501747344702.\n",
      "[I 2025-07-22 02:47:19,339] Trial 92 finished with value: 0.5877913855899762 and parameters: {'lr': 0.004407835706004567, 'gamma': 1.9181124283399376, 'step_size': 26, 'n_d': 6, 'n_a': 5, 'lambda_sparse': 0.00022448548242696618, 'momentum': 0.2337067708557365}. Best is trial 91 with value: 0.6648501747344702.\n"
     ]
    },
    {
     "name": "stdout",
     "output_type": "stream",
     "text": [
      "\n",
      "Early stopping occurred at epoch 51 with best_epoch = 31 and best_valid_balanced_accuracy = 0.59092\n"
     ]
    },
    {
     "name": "stderr",
     "output_type": "stream",
     "text": [
      "[I 2025-07-22 02:48:09,130] Trial 95 finished with value: 0.5909194585752353 and parameters: {'lr': 0.0016084480152227735, 'gamma': 1.127531551636756, 'step_size': 20, 'n_d': 12, 'n_a': 12, 'lambda_sparse': 0.00036971747409326593, 'momentum': 0.16610929584543818}. Best is trial 91 with value: 0.6648501747344702.\n"
     ]
    },
    {
     "name": "stdout",
     "output_type": "stream",
     "text": [
      "\n",
      "Early stopping occurred at epoch 64 with best_epoch = 44 and best_valid_balanced_accuracy = 0.58287\n"
     ]
    },
    {
     "name": "stderr",
     "output_type": "stream",
     "text": [
      "[I 2025-07-22 02:49:15,617] Trial 93 finished with value: 0.582865277215592 and parameters: {'lr': 0.054465748182361384, 'gamma': 1.9163519052422568, 'step_size': 26, 'n_d': 6, 'n_a': 5, 'lambda_sparse': 0.0053316093689200926, 'momentum': 0.1613417871609743}. Best is trial 91 with value: 0.6648501747344702.\n"
     ]
    },
    {
     "name": "stdout",
     "output_type": "stream",
     "text": [
      "\n",
      "Early stopping occurred at epoch 48 with best_epoch = 28 and best_valid_balanced_accuracy = 0.55825\n"
     ]
    },
    {
     "name": "stderr",
     "output_type": "stream",
     "text": [
      "[I 2025-07-22 02:50:07,440] Trial 97 finished with value: 0.5582520383528002 and parameters: {'lr': 0.002250950850844456, 'gamma': 0.7178593498820895, 'step_size': 13, 'n_d': 11, 'n_a': 12, 'lambda_sparse': 0.0003780151334298401, 'momentum': 0.15113107193660558}. Best is trial 91 with value: 0.6648501747344702.\n"
     ]
    },
    {
     "name": "stdout",
     "output_type": "stream",
     "text": [
      "\n",
      "Early stopping occurred at epoch 75 with best_epoch = 55 and best_valid_balanced_accuracy = 0.58123\n"
     ]
    },
    {
     "name": "stderr",
     "output_type": "stream",
     "text": [
      "[I 2025-07-22 02:52:37,521] Trial 98 finished with value: 0.5812339728447741 and parameters: {'lr': 0.0023291818243258494, 'gamma': 0.2939147108594704, 'step_size': 19, 'n_d': 11, 'n_a': 6, 'lambda_sparse': 0.0003883261799334423, 'momentum': 0.8283956755925035}. Best is trial 91 with value: 0.6648501747344702.\n"
     ]
    },
    {
     "name": "stdout",
     "output_type": "stream",
     "text": [
      "\n",
      "Early stopping occurred at epoch 76 with best_epoch = 56 and best_valid_balanced_accuracy = 0.62266\n"
     ]
    },
    {
     "name": "stderr",
     "output_type": "stream",
     "text": [
      "[I 2025-07-22 02:52:54,062] Trial 99 finished with value: 0.6226614075887758 and parameters: {'lr': 0.0023425227331311067, 'gamma': 1.144383508724929, 'step_size': 13, 'n_d': 11, 'n_a': 6, 'lambda_sparse': 0.00021018842181296047, 'momentum': 0.37337334300071984}. Best is trial 91 with value: 0.6648501747344702.\n"
     ]
    },
    {
     "name": "stdout",
     "output_type": "stream",
     "text": [
      "Best hyperparameters: {'lr': 0.024661276949600026, 'gamma': 1.899995840281072, 'step_size': 27, 'n_d': 6, 'n_a': 6, 'lambda_sparse': 0.0002195874329439208, 'momentum': 0.15003590502748304}\n"
     ]
    }
   ],
   "source": [
    "# implement Bayesian hyperparameter optimisation\n",
    "def objective(trial):\n",
    "    # sample hyperparameters:\n",
    "    lr = trial.suggest_float(\"lr\", 1e-5, 1e-1, log=True)\n",
    "    gamma = trial.suggest_float(\"gamma\", 0.1, 2.0)\n",
    "    step_size = trial.suggest_int(\"step_size\", 10, 50)\n",
    "    n_d = trial.suggest_int(\"n_d\", 5, 13)\n",
    "    n_a = trial.suggest_int(\"n_a\", 5, 13)\n",
    "    lambda_sparse = trial.suggest_float(\"lambda_sparse\", 1e-5, 1e-2, log=True)\n",
    "    momentum = trial.suggest_float(\"momentum\", 0.1, 1.0)\n",
    "    \n",
    "    # create TabNet model:\n",
    "    clf = TabNetClassifier(\n",
    "        optimizer_fn=torch.optim.Adam,\n",
    "        optimizer_params=dict(lr=lr),\n",
    "        scheduler_fn=torch.optim.lr_scheduler.StepLR,\n",
    "        scheduler_params={\"step_size\": step_size, \"gamma\": gamma},\n",
    "        n_a=n_a,\n",
    "        n_d=n_d,\n",
    "        lambda_sparse=lambda_sparse,\n",
    "        momentum=momentum,\n",
    "        mask_type=\"sparsemax\",\n",
    "        seed=RANDOM_STATE,\n",
    "        verbose=0,\n",
    "    )\n",
    "    \n",
    "    # fit model\n",
    "    clf.fit(\n",
    "        X_train=X_train.values,\n",
    "        y_train=y_train.values,\n",
    "        eval_set=[\n",
    "            (X_train.values, y_train.values),\n",
    "            (X_valid.values, y_valid.values)\n",
    "        ],\n",
    "        eval_name=[\"train\", \"valid\"],\n",
    "        eval_metric=[\"balanced_accuracy\"],\n",
    "        max_epochs=200,\n",
    "        patience=20,\n",
    "        batch_size=128,\n",
    "        virtual_batch_size=16,\n",
    "        weights=sample_weights, \n",
    "    )\n",
    "\n",
    "    # predict and evaluate:\n",
    "    yhat = clf.predict(X_valid.values)\n",
    "    score = balanced_accuracy_score(y_valid.values, yhat)\n",
    "    \n",
    "    return score\n",
    "\n",
    "# run optimization:\n",
    "study = optuna.create_study(direction=\"maximize\")\n",
    "study.optimize(objective, n_trials=100, n_jobs=-1)\n",
    "\n",
    "print(\"Best hyperparameters:\", study.best_params)"
   ]
  },
  {
   "cell_type": "markdown",
   "id": "06eef1fe",
   "metadata": {},
   "source": [
    "# Create an ensemble classifier:"
   ]
  },
  {
   "cell_type": "code",
   "execution_count": 16,
   "id": "aa504306",
   "metadata": {},
   "outputs": [
    {
     "name": "stdout",
     "output_type": "stream",
     "text": [
      "\n",
      "Training model 1/10 with seed=42...\n",
      "\n",
      "Early stopping occurred at epoch 83 with best_epoch = 53 and best_valid_balanced_accuracy = 0.61985\n",
      "\n",
      "Training model 2/10 with seed=43...\n",
      "\n",
      "Early stopping occurred at epoch 50 with best_epoch = 20 and best_valid_balanced_accuracy = 0.6126\n",
      "\n",
      "Training model 3/10 with seed=44...\n",
      "\n",
      "Early stopping occurred at epoch 120 with best_epoch = 90 and best_valid_balanced_accuracy = 0.624\n",
      "\n",
      "Training model 4/10 with seed=45...\n",
      "\n",
      "Early stopping occurred at epoch 93 with best_epoch = 63 and best_valid_balanced_accuracy = 0.63512\n",
      "\n",
      "Training model 5/10 with seed=46...\n",
      "\n",
      "Early stopping occurred at epoch 80 with best_epoch = 50 and best_valid_balanced_accuracy = 0.65303\n",
      "\n",
      "Training model 6/10 with seed=47...\n",
      "\n",
      "Early stopping occurred at epoch 95 with best_epoch = 65 and best_valid_balanced_accuracy = 0.64048\n",
      "\n",
      "Training model 7/10 with seed=48...\n",
      "\n",
      "Early stopping occurred at epoch 57 with best_epoch = 27 and best_valid_balanced_accuracy = 0.62346\n",
      "\n",
      "Training model 8/10 with seed=49...\n",
      "\n",
      "Early stopping occurred at epoch 51 with best_epoch = 21 and best_valid_balanced_accuracy = 0.59938\n",
      "\n",
      "Training model 9/10 with seed=50...\n",
      "\n",
      "Early stopping occurred at epoch 45 with best_epoch = 15 and best_valid_balanced_accuracy = 0.58631\n",
      "\n",
      "Training model 10/10 with seed=51...\n",
      "\n",
      "Early stopping occurred at epoch 76 with best_epoch = 46 and best_valid_balanced_accuracy = 0.60904\n",
      "\n",
      "=== Ensemble Evaluation ===\n",
      "Balanced accuracy 0.6437375225538566\n",
      "              precision    recall  f1-score   support\n",
      "\n",
      "           0     0.9579    0.7892    0.8654       721\n",
      "           1     0.7835    0.8736    0.8261        87\n",
      "           2     0.8485    0.6829    0.7568        41\n",
      "           3     1.0000    0.4286    0.6000        14\n",
      "           4     0.0282    0.4444    0.0530         9\n",
      "\n",
      "    accuracy                         0.7833       872\n",
      "   macro avg     0.7236    0.6437    0.6202       872\n",
      "weighted avg     0.9264    0.7833    0.8437       872\n",
      "\n"
     ]
    }
   ],
   "source": [
    "final_params = {\n",
    "    \"optimizer_fn\": torch.optim.Adam,\n",
    "    \"optimizer_params\": dict(lr=study.best_params[\"lr\"]),\n",
    "    \"scheduler_fn\": torch.optim.lr_scheduler.StepLR,\n",
    "    \"scheduler_params\": {\n",
    "        \"step_size\": study.best_params[\"step_size\"], \n",
    "        \"gamma\": study.best_params[\"gamma\"]\n",
    "    },\n",
    "    \"n_d\": study.best_params[\"n_d\"],\n",
    "    \"n_a\": study.best_params[\"n_a\"],\n",
    "    \"momentum\": study.best_params[\"momentum\"],\n",
    "    \"lambda_sparse\": study.best_params[\"lambda_sparse\"],\n",
    "    \"seed\": RANDOM_STATE,\n",
    "    \"mask_type\": \"sparsemax\",\n",
    "    \"verbose\": 0, \n",
    "}\n",
    "\n",
    "models = []\n",
    "pred_probs = []\n",
    "N_ENSEMBLES = 10\n",
    "\n",
    "for i in range(N_ENSEMBLES):\n",
    "    print(f\"\\nTraining model {i+1}/{N_ENSEMBLES} with seed={RANDOM_STATE+i}...\")\n",
    "    final_params[\"seed\"] = RANDOM_STATE + i\n",
    "    model_params = final_params\n",
    "    \n",
    "    model = TabNetClassifier(**model_params)\n",
    "    model.fit(\n",
    "        X_train=X_train.values,\n",
    "        y_train=y_train.values,\n",
    "        eval_set=[\n",
    "            (X_valid.values, y_valid.values)\n",
    "        ],\n",
    "        eval_name=[\"valid\"],\n",
    "        eval_metric=[\"balanced_accuracy\"],\n",
    "        max_epochs=200,\n",
    "        patience=30,\n",
    "        batch_size=128,\n",
    "        virtual_batch_size=16,\n",
    "        weights=sample_weights,\n",
    "    )\n",
    "    \n",
    "    models.append(model)\n",
    "    preds = model.predict_proba(X_valid.values)\n",
    "    pred_probs.append(preds)\n",
    "    \n",
    "avg_preds = np.mean(pred_probs, axis=0)\n",
    "final_preds = np.argmax(avg_preds, axis=1)\n",
    "\n",
    "print(\"\\n=== Ensemble Evaluation ===\")\n",
    "print(\"Balanced accuracy\", balanced_accuracy_score(y_valid.values, final_preds))\n",
    "print(classification_report(y_valid.values, final_preds, digits=4))"
   ]
  },
  {
   "cell_type": "markdown",
   "id": "39428cb5",
   "metadata": {},
   "source": [
    "# Model evaluation using out-of-sample test dataset:"
   ]
  },
  {
   "cell_type": "code",
   "execution_count": 73,
   "id": "f7b3fc3d",
   "metadata": {
    "scrolled": false
   },
   "outputs": [
    {
     "name": "stdout",
     "output_type": "stream",
     "text": [
      "\n",
      "Sample weights ----\n",
      "[ 0.24155125  2.0045977   4.25365854 12.45714286 21.8       ]\n",
      "\n",
      "=== Ensemble Evaluation ===\n",
      "Average precision: 0.6302\n",
      "ROC AUC: 0.8266\n",
      "              precision    recall  f1-score   support\n",
      "\n",
      "           0     0.9682    0.8019    0.8773       722\n",
      "           1     0.8478    0.8966    0.8715        87\n",
      "           2     0.8974    0.8537    0.8750        41\n",
      "           3     1.0000    0.4286    0.6000        14\n",
      "           4     0.0146    0.2500    0.0276         8\n",
      "\n",
      "    accuracy                         0.8028       872\n",
      "   macro avg     0.7456    0.6461    0.6503       872\n",
      "weighted avg     0.9446    0.8028    0.8643       872\n",
      "\n"
     ]
    },
    {
     "name": "stderr",
     "output_type": "stream",
     "text": [
      "2025-07-22 13:16:28,998 - INFO     - Executing shutdown due to inactivity...\n",
      "2025-07-22 13:16:29,112 - INFO     - Executing shutdown...\n",
      "2025-07-22 13:16:29,115 - INFO     - Not running with the Werkzeug Server, exiting by searching gc for BaseWSGIServer\n"
     ]
    }
   ],
   "source": [
    "test_classes = np.unique(y_test)\n",
    "test_class_weights = compute_class_weight(class_weight=\"balanced\", classes=test_classes, y=y_test)\n",
    "test_sample_weights = np.array([test_class_weights[list(test_classes).index(cls)] for cls in y_test])\n",
    "\n",
    "print(\"\\nSample weights ----\")\n",
    "print(test_class_weights)\n",
    "\n",
    "preds_probs = []\n",
    "for model in models:\n",
    "    preds = model.predict_proba(X_test.values)\n",
    "    preds_probs.append(preds)\n",
    "\n",
    "avg_preds = np.mean(preds_probs, axis=0)\n",
    "final_preds = np.argmax(avg_preds, axis=1)  \n",
    "\n",
    "print(\"\\n=== Ensemble Evaluation ===\")\n",
    "y_test_bin = label_binarize(y_test.values, classes=test_classes)\n",
    "print(\"Average precision: %.4f\" % average_precision_score(\n",
    "    y_test_bin, avg_preds,\n",
    "    average=\"weighted\",\n",
    "    sample_weight=test_sample_weights\n",
    "))\n",
    "\n",
    "print(\"ROC AUC: %.4f\" % roc_auc_score(\n",
    "    y_test_bin, avg_preds,\n",
    "    average=\"weighted\",\n",
    "    multi_class=\"ovr\",\n",
    "    sample_weight=test_sample_weights\n",
    "))\n",
    "\n",
    "print(classification_report(y_test.values, final_preds, digits=4))\n"
   ]
  },
  {
   "cell_type": "markdown",
   "id": "227e3e46",
   "metadata": {},
   "source": [
    "# Conclusion and recommendation...\n",
    "\n",
    "The dataset exhibited severe class imbalance, with some classes representing less than 1% of the total samples, as highlighted in the EDA file. To address this, a weighted TabNet classifier was employed to ensure the model gave appropriate attention to minority classes. Since accuracy is an unreliable metric in such contexts, we instead optimized the model using balanced accuracy, which better reflects performance across all classes. An ensemble of 10 TabNet models was then constructed to enhance generalization and robustness. On the out-of-sample test set, the ensemble achieved a weighted average precision of 0.6302 and a ROC AUC of 0.8266, demonstrating its ability to correctly classify instances from under-represented classes.\n",
    "\n",
    "  "
   ]
  }
 ],
 "metadata": {
  "kernelspec": {
   "display_name": "Python 3 (ipykernel)",
   "language": "python",
   "name": "python3"
  },
  "language_info": {
   "codemirror_mode": {
    "name": "ipython",
    "version": 3
   },
   "file_extension": ".py",
   "mimetype": "text/x-python",
   "name": "python",
   "nbconvert_exporter": "python",
   "pygments_lexer": "ipython3",
   "version": "3.10.12"
  }
 },
 "nbformat": 4,
 "nbformat_minor": 5
}
